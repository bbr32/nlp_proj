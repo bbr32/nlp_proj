{
  "nbformat": 4,
  "nbformat_minor": 0,
  "metadata": {
    "colab": {
      "name": "NLP_proj.ipynb",
      "provenance": [],
      "collapsed_sections": []
    },
    "kernelspec": {
      "name": "python3",
      "display_name": "Python 3"
    }
  },
  "cells": [
    {
      "cell_type": "code",
      "metadata": {
        "id": "j7-yq3ojromU",
        "colab_type": "code",
        "colab": {}
      },
      "source": [
        "#IMPORTS\n",
        "import pandas as pd\n",
        "import tensorflow as tf\n"
      ],
      "execution_count": 0,
      "outputs": []
    },
    {
      "cell_type": "code",
      "metadata": {
        "id": "wyT8zPtavg4w",
        "colab_type": "code",
        "colab": {}
      },
      "source": [
        "#GET DATA"
      ],
      "execution_count": 0,
      "outputs": []
    },
    {
      "cell_type": "code",
      "metadata": {
        "id": "X4PNnZETvmz7",
        "colab_type": "code",
        "colab": {}
      },
      "source": [
        "#SENTENCE TO SEQUENCE"
      ],
      "execution_count": 0,
      "outputs": []
    },
    {
      "cell_type": "code",
      "metadata": {
        "id": "SDUXQsxmvtrB",
        "colab_type": "code",
        "colab": {}
      },
      "source": [
        "#VISUALIZE"
      ],
      "execution_count": 0,
      "outputs": []
    },
    {
      "cell_type": "code",
      "metadata": {
        "id": "0Cn0x6QGwL91",
        "colab_type": "code",
        "colab": {}
      },
      "source": [
        ""
      ],
      "execution_count": 0,
      "outputs": []
    }
  ]
}